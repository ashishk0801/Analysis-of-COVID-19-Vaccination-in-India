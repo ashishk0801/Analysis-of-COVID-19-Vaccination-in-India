{
  "nbformat": 4,
  "nbformat_minor": 0,
  "metadata": {
    "colab": {
      "name": "covid19.ipynb",
      "provenance": []
    },
    "kernelspec": {
      "name": "python3",
      "display_name": "Python 3"
    },
    "language_info": {
      "name": "python"
    }
  },
  "cells": [
    {
      "cell_type": "code",
      "metadata": {
        "id": "OaTaf-SkC4C-"
      },
      "source": [
        "import pandas as pd\n",
        "import seaborn as sb"
      ],
      "execution_count": 1,
      "outputs": []
    },
    {
      "cell_type": "code",
      "metadata": {
        "id": "m9WJRVDuJgMv"
      },
      "source": [
        "url = 'https://raw.githubusercontent.com/owid/covid-19-data/master/public/data/vaccinations/vaccinations.csv'\n",
        "data = pd.read_csv(url,index_col=\"location\")"
      ],
      "execution_count": 2,
      "outputs": []
    },
    {
      "cell_type": "code",
      "metadata": {
        "id": "JdP0PJNKL-9K"
      },
      "source": [
        "ind = data.loc[\"India\"]"
      ],
      "execution_count": 3,
      "outputs": []
    },
    {
      "cell_type": "code",
      "metadata": {
        "id": "ij28NdGbOUsQ"
      },
      "source": [
        "ind"
      ],
      "execution_count": null,
      "outputs": []
    },
    {
      "cell_type": "markdown",
      "metadata": {
        "id": "1PlN1cslZoi3"
      },
      "source": [
        "Data Cleaning"
      ]
    },
    {
      "cell_type": "code",
      "metadata": {
        "id": "SkGCuqXEWXTo"
      },
      "source": [
        "ind.fillna(0,inplace=True)"
      ],
      "execution_count": null,
      "outputs": []
    },
    {
      "cell_type": "markdown",
      "metadata": {
        "id": "y405am61W9oC"
      },
      "source": [
        "Data Visualization"
      ]
    },
    {
      "cell_type": "code",
      "metadata": {
        "id": "bdn-FMEfXBHY"
      },
      "source": [
        "ind.corr()"
      ],
      "execution_count": null,
      "outputs": []
    },
    {
      "cell_type": "code",
      "metadata": {
        "id": "oHEcPUQmZAlb"
      },
      "source": [
        "sb.displot(ind.corr())"
      ],
      "execution_count": null,
      "outputs": []
    },
    {
      "cell_type": "code",
      "metadata": {
        "id": "9Cyf4NAbXNhK"
      },
      "source": [
        "sb.heatmap(ind.corr())"
      ],
      "execution_count": null,
      "outputs": []
    },
    {
      "cell_type": "code",
      "metadata": {
        "id": "LE9yxxbTZ6NK"
      },
      "source": [
        "sb.distplot(ind['daily_vaccinations'])"
      ],
      "execution_count": null,
      "outputs": []
    },
    {
      "cell_type": "markdown",
      "metadata": {
        "id": "5L6ZkH2FTZab"
      },
      "source": [
        "Data Splitting"
      ]
    },
    {
      "cell_type": "markdown",
      "metadata": {
        "id": "Ia44dPnMTeC4"
      },
      "source": [
        "1. Array Creation"
      ]
    },
    {
      "cell_type": "code",
      "metadata": {
        "id": "J9nmpeAOTYHP"
      },
      "source": [
        "X = ind[['total_vaccinations','people_vaccinated','people_fully_vaccinated','daily_vaccinations_raw','total_vaccinations_per_hundred','people_vaccinated_per_hundred','people_fully_vaccinated_per_hundred']]\n",
        "Y = ind[['daily_vaccinations']]"
      ],
      "execution_count": 13,
      "outputs": []
    },
    {
      "cell_type": "markdown",
      "metadata": {
        "id": "YMb7vbjyUk-5"
      },
      "source": [
        "2. Data Splitting"
      ]
    },
    {
      "cell_type": "code",
      "metadata": {
        "id": "EDLnuzwiU3Mr"
      },
      "source": [
        "from sklearn.model_selection import train_test_split as tts\n",
        "X_train,X_test,Y_train,Y_test = tts(X,Y,test_size=0.2,random_state=250000)"
      ],
      "execution_count": 14,
      "outputs": []
    },
    {
      "cell_type": "markdown",
      "metadata": {
        "id": "dDe19DSmVN60"
      },
      "source": [
        "Algorithm"
      ]
    },
    {
      "cell_type": "code",
      "metadata": {
        "id": "H9gqMy8wVNIe"
      },
      "source": [
        "from sklearn.linear_model import LinearRegression \n",
        "lr=LinearRegression()\n",
        "lr.fit(X_train,Y_train)"
      ],
      "execution_count": null,
      "outputs": []
    },
    {
      "cell_type": "markdown",
      "metadata": {
        "id": "xcYjDSktZsVI"
      },
      "source": [
        "Testing\n"
      ]
    },
    {
      "cell_type": "code",
      "metadata": {
        "id": "22SF6ktfF_gi"
      },
      "source": [
        "lr_p = lr.predict(X_test)\n",
        "print(lr_p)"
      ],
      "execution_count": null,
      "outputs": []
    },
    {
      "cell_type": "code",
      "metadata": {
        "id": "QLqZY2KtG7oC",
        "colab": {
          "base_uri": "https://localhost:8080/"
        },
        "outputId": "2d480faf-b83d-4bb8-fa7f-f1369ef41d8b"
      },
      "source": [
        "lr_a = lr.score(X_test,Y_test)\n",
        "print(lr_a)"
      ],
      "execution_count": 21,
      "outputs": [
        {
          "output_type": "stream",
          "text": [
            "0.8619412572970974\n"
          ],
          "name": "stdout"
        }
      ]
    }
  ]
}